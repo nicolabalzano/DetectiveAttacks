{
 "cells": [
  {
   "metadata": {
    "ExecuteTime": {
     "end_time": "2024-04-14T16:53:52.827143Z",
     "start_time": "2024-04-14T16:53:52.808140Z"
    }
   },
   "cell_type": "code",
   "source": [
    "from src.model.interfaceToMitre.mitreData.utils.FileUtils import read_from_json\n",
    "# EXTRACT DATA \n",
    "from src.model.interfaceToMitre.mitreData.mitreAttackToCVE.SentenceSimilarityModel import SentenceSimilarityModel\n",
    "import nvdlib\n",
    "\n",
    "data_extracted = read_from_json('.\\\\files\\\\','attack_to_cve_ssm_sim_check')\n",
    "print(\"Dataset dimension:\", len(data_extracted['mapping']))\n",
    "\n",
    "# Reduce to 50 CVE mappings\n",
    "data_extracted['mapping'] = data_extracted['mapping'][:-100]\n",
    "\n",
    "# Similarity Average\n",
    "sum_ = 0.0\n",
    "\n",
    "for mapping in data_extracted['mapping']:\n",
    "    sum_ += float(mapping['similarity'])\n",
    "print(\"Total average:\", sum_ / len(data_extracted['mapping']))\n",
    "\n",
    "def sim_average_threshold(threshold: float):\n",
    "    sum_ = 0.0\n",
    "    for mapping in data_extracted['mapping']:\n",
    "        if float(mapping['similarity']) >= threshold:\n",
    "            sum_ += float(mapping['similarity'])\n",
    "    print(\"Average:\", sum_ / len(data_extracted['mapping']))\n",
    "    return sum_ / len(data_extracted['mapping'])\n",
    "\n",
    "def count_fake_negative(threshold: float):\n",
    "    count = 0\n",
    "    for mapping in data_extracted['mapping']:\n",
    "        if float(mapping['similarity']) < threshold:\n",
    "            count += 1\n",
    "    print(\"Fake Negative:\", count)\n",
    "    return count\n",
    "    \n",
    "def get_percentage_fake_negative(threshold: float, fake_negative_count: int):\n",
    "    print(\"% Fake Negative:\", fake_negative_count*100 / len(data_extracted['mapping']))\n",
    "    return fake_negative_count*100 / len(data_extracted['mapping'])\n",
    "\n",
    "def count_fake_positive(threshold: float):\n",
    "    count = 0\n",
    "\n",
    "def get_percentage_fake_positive(threshold: float, fake_positive_count: int):\n",
    "        print(\"% Fake Negative:\", fake_positive_count*100 / len(data_extracted['mapping']))\n",
    "        return fake_positive_count*100 / len(data_extracted['mapping'])"
   ],
   "id": "3e2b11c0524b6c44",
   "outputs": [
    {
     "name": "stdout",
     "output_type": "stream",
     "text": [
      "Dataset dimension: 150\n",
      "Total average: 0.6468605260000001\n"
     ]
    }
   ],
   "execution_count": 18
  },
  {
   "metadata": {
    "ExecuteTime": {
     "end_time": "2024-04-14T16:54:01.548299Z",
     "start_time": "2024-04-14T16:53:53.322951Z"
    }
   },
   "cell_type": "code",
   "source": [
    "# CHECK FOR 0.5 THRESHOLD\n",
    "MINIMUM_SIM = 0.5\n",
    "print(\"Testing MINIMUM_SIM = 0.5\")\n",
    "\n",
    "# Similarity Average\n",
    "sim_average_threshold(MINIMUM_SIM)\n",
    "\n",
    "# Counting Fake Negative\n",
    "count_fake_negative(MINIMUM_SIM)\n",
    "\n",
    "# % Fake Negative\n",
    "get_percentage_fake_negative(MINIMUM_SIM, count_fake_negative(MINIMUM_SIM))\n",
    "\n",
    "# Counting Fake Positive\n",
    "count_fake_positive(MINIMUM_SIM)\n",
    "\n",
    "# % Fake Positive\n",
    "get_percentage_fake_positive(MINIMUM_SIM, count_fake_positive(MINIMUM_SIM))"
   ],
   "id": "eb5908b226f0e0d1",
   "outputs": [
    {
     "name": "stdout",
     "output_type": "stream",
     "text": [
      "Testing MINIMUM_SIM = 0.5\n",
      "Average: 0.6113606238\n",
      "Fake Negative: 6\n",
      "Fake Negative: 6\n",
      "% Fake Negative: 12.0\n"
     ]
    },
    {
     "ename": "KeyboardInterrupt",
     "evalue": "",
     "output_type": "error",
     "traceback": [
      "\u001B[1;31m---------------------------------------------------------------------------\u001B[0m",
      "\u001B[1;31mKeyboardInterrupt\u001B[0m                         Traceback (most recent call last)",
      "Cell \u001B[1;32mIn[19], line 15\u001B[0m\n\u001B[0;32m     12\u001B[0m get_percentage_fake_negative(MINIMUM_SIM, count_fake_negative(MINIMUM_SIM))\n\u001B[0;32m     14\u001B[0m \u001B[38;5;66;03m# Counting Fake Positive\u001B[39;00m\n\u001B[1;32m---> 15\u001B[0m \u001B[43mcount_fake_positive\u001B[49m\u001B[43m(\u001B[49m\u001B[43mMINIMUM_SIM\u001B[49m\u001B[43m)\u001B[49m\n\u001B[0;32m     17\u001B[0m \u001B[38;5;66;03m# % Fake Positive\u001B[39;00m\n\u001B[0;32m     18\u001B[0m get_percentage_fake_positive(MINIMUM_SIM, count_fake_positive(MINIMUM_SIM))\n",
      "Cell \u001B[1;32mIn[18], line 44\u001B[0m, in \u001B[0;36mcount_fake_positive\u001B[1;34m(threshold)\u001B[0m\n\u001B[0;32m     41\u001B[0m     \u001B[38;5;28;01mfor\u001B[39;00m at \u001B[38;5;129;01min\u001B[39;00m AttackPatternsContainer()\u001B[38;5;241m.\u001B[39mget_data():\n\u001B[0;32m     42\u001B[0m         \u001B[38;5;66;03m# if attack pattern is not in the mapping check if is a fake positive\u001B[39;00m\n\u001B[0;32m     43\u001B[0m         \u001B[38;5;28;01mif\u001B[39;00m at\u001B[38;5;241m.\u001B[39mx_mitre_id \u001B[38;5;129;01mnot\u001B[39;00m \u001B[38;5;129;01min\u001B[39;00m [mitre_id \u001B[38;5;28;01mfor\u001B[39;00m mitre_id \u001B[38;5;129;01min\u001B[39;00m data_extracted[\u001B[38;5;124m'\u001B[39m\u001B[38;5;124mmapping\u001B[39m\u001B[38;5;124m'\u001B[39m]]:\n\u001B[1;32m---> 44\u001B[0m             \u001B[38;5;28;01mif\u001B[39;00m SentenceSimilarityModel()\u001B[38;5;241m.\u001B[39mcheck_similarity(\u001B[43mnvdlib\u001B[49m\u001B[38;5;241;43m.\u001B[39;49m\u001B[43msearchCVE\u001B[49m\u001B[43m(\u001B[49m\u001B[43mcveId\u001B[49m\u001B[38;5;241;43m=\u001B[39;49m\u001B[43mmapping\u001B[49m\u001B[43m[\u001B[49m\u001B[38;5;124;43m'\u001B[39;49m\u001B[38;5;124;43mcve_id\u001B[39;49m\u001B[38;5;124;43m'\u001B[39;49m\u001B[43m]\u001B[49m\u001B[43m)\u001B[49m[\u001B[38;5;241m0\u001B[39m]\u001B[38;5;241m.\u001B[39mdescriptions[\u001B[38;5;241m0\u001B[39m]\u001B[38;5;241m.\u001B[39mvalue, at\u001B[38;5;241m.\u001B[39mdescription) \u001B[38;5;241m>\u001B[39m\u001B[38;5;241m=\u001B[39m MINIMUM_SIM:\n\u001B[0;32m     45\u001B[0m                 count \u001B[38;5;241m+\u001B[39m\u001B[38;5;241m=\u001B[39m \u001B[38;5;241m1\u001B[39m\n\u001B[0;32m     46\u001B[0m \u001B[38;5;28mprint\u001B[39m(\u001B[38;5;124m\"\u001B[39m\u001B[38;5;124mFake Positive:\u001B[39m\u001B[38;5;124m\"\u001B[39m, count)\n",
      "File \u001B[1;32m~\\OneDrive\\Desktop\\Tesi\\UniBa_Tesi\\venv\\lib\\site-packages\\nvdlib\\cve.py:161\u001B[0m, in \u001B[0;36msearchCVE\u001B[1;34m(cpeName, cveId, cvssV2Metrics, cvssV2Severity, cvssV3Metrics, cvssV3Severity, cweId, hasCertAlerts, hasCertNotes, hasKev, hasOval, isVulnerable, keywordExactMatch, keywordSearch, lastModStartDate, lastModEndDate, noRejected, pubStartDate, pubEndDate, sourceIdentifier, versionEnd, versionEndType, versionStart, versionStartType, virtualMatchString, limit, delay, key, verbose)\u001B[0m\n\u001B[0;32m    130\u001B[0m parameters, headers \u001B[38;5;241m=\u001B[39m __buildCVECall(\n\u001B[0;32m    131\u001B[0m     cpeName,\n\u001B[0;32m    132\u001B[0m     cveId,\n\u001B[1;32m   (...)\u001B[0m\n\u001B[0;32m    157\u001B[0m     delay,\n\u001B[0;32m    158\u001B[0m     key)\n\u001B[0;32m    160\u001B[0m \u001B[38;5;66;03m# raw is the raw dictionary response.\u001B[39;00m\n\u001B[1;32m--> 161\u001B[0m raw \u001B[38;5;241m=\u001B[39m \u001B[43m__get\u001B[49m\u001B[43m(\u001B[49m\u001B[38;5;124;43m'\u001B[39;49m\u001B[38;5;124;43mcve\u001B[39;49m\u001B[38;5;124;43m'\u001B[39;49m\u001B[43m,\u001B[49m\u001B[43m \u001B[49m\u001B[43mheaders\u001B[49m\u001B[43m,\u001B[49m\u001B[43m \u001B[49m\u001B[43mparameters\u001B[49m\u001B[43m,\u001B[49m\u001B[43m \u001B[49m\u001B[43mlimit\u001B[49m\u001B[43m,\u001B[49m\u001B[43m \u001B[49m\u001B[43mverbose\u001B[49m\u001B[43m,\u001B[49m\u001B[43m \u001B[49m\u001B[43mdelay\u001B[49m\u001B[43m)\u001B[49m\n\u001B[0;32m    162\u001B[0m cves \u001B[38;5;241m=\u001B[39m []\n\u001B[0;32m    163\u001B[0m \u001B[38;5;66;03m# Generates the CVEs into objects for easy access and appends them to self.cves\u001B[39;00m\n",
      "File \u001B[1;32m~\\OneDrive\\Desktop\\Tesi\\UniBa_Tesi\\venv\\lib\\site-packages\\nvdlib\\get.py:37\u001B[0m, in \u001B[0;36m__get\u001B[1;34m(product, headers, parameters, limit, verbose, delay)\u001B[0m\n\u001B[0;32m     35\u001B[0m \u001B[38;5;28;01mif\u001B[39;00m \u001B[38;5;129;01mnot\u001B[39;00m delay:\n\u001B[0;32m     36\u001B[0m     delay \u001B[38;5;241m=\u001B[39m \u001B[38;5;241m6\u001B[39m\n\u001B[1;32m---> 37\u001B[0m \u001B[43mtime\u001B[49m\u001B[38;5;241;43m.\u001B[39;49m\u001B[43msleep\u001B[49m\u001B[43m(\u001B[49m\u001B[43mdelay\u001B[49m\u001B[43m)\u001B[49m\n\u001B[0;32m     39\u001B[0m \u001B[38;5;66;03m# If a limit is in the search criteria or the total number of results are less than or equal to the default 2000 that were just requested, return and don't request anymore.\u001B[39;00m\n\u001B[0;32m     40\u001B[0m totalResults \u001B[38;5;241m=\u001B[39m raw[\u001B[38;5;124m'\u001B[39m\u001B[38;5;124mtotalResults\u001B[39m\u001B[38;5;124m'\u001B[39m]\n",
      "\u001B[1;31mKeyboardInterrupt\u001B[0m: "
     ]
    }
   ],
   "execution_count": 19
  },
  {
   "metadata": {},
   "cell_type": "code",
   "source": "",
   "id": "4fab7366c8923d34",
   "outputs": [],
   "execution_count": null
  }
 ],
 "metadata": {
  "kernelspec": {
   "display_name": "Python 3",
   "language": "python",
   "name": "python3"
  },
  "language_info": {
   "codemirror_mode": {
    "name": "ipython",
    "version": 2
   },
   "file_extension": ".py",
   "mimetype": "text/x-python",
   "name": "python",
   "nbconvert_exporter": "python",
   "pygments_lexer": "ipython2",
   "version": "2.7.6"
  }
 },
 "nbformat": 4,
 "nbformat_minor": 5
}
