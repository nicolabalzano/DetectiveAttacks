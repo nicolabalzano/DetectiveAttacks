{
 "cells": [
  {
   "cell_type": "code",
   "execution_count": null,
   "id": "initial_id",
   "metadata": {
    "collapsed": true
   },
   "outputs": [],
   "source": [
    "from src.model.interfaceToMitre.mitreData.utils.FileUtils import save_to_json_file, read_from_json\n",
    "import nvdlib\n",
    "from src.model.container import AttackToCVEContainer\n",
    "\n",
    "def save_cve_desc_to_json_file(cve_id_list: list):\n",
    "    for cve_id in cve_id_list:\n",
    "        cve = nvdlib.searchCVE(cveId=cve_id)\n",
    "        data_extracted = read_from_json('.\\\\files\\\\', 'cve_to_know')\n",
    "        data_extracted[cve_id] = {\n",
    "            \"description\": cve[0].descriptions[0].value,\n",
    "        }\n",
    "        save_to_json_file(data_extracted, \"cve_to_know\", \".\\\\files\\\\\")\n",
    "\n",
    "\n",
    "# SAVE DATA IN RIGHT FORMAT ON JSON FILE\n",
    "def save_at_of_cve_to_json_file(cve_id: str):\n",
    "    dict_attack_patterns = AttackToCVEContainer().get_attack_pattern_by_cve_id(cve_id)    \n",
    "    \n",
    "    print(\"Related attack patterns to \", cve_id, \": \")\n",
    "    combined_lists = (dict_attack_patterns.get('primary_impact', []) +\n",
    "                      dict_attack_patterns.get('secondary_impact', []) +\n",
    "                      dict_attack_patterns.get('exploitation_technique', []) +\n",
    "                      dict_attack_patterns.get('uncategorized', []))\n",
    "    dict_id_name_and_description = {}\n",
    "    for at in combined_lists:\n",
    "        dict_id_name_and_description[at.x_mitre_id] = {\n",
    "            \"name\": at.name,\n",
    "            \"description\": at.description\n",
    "        }\n",
    "        print(\"    \", at.name)\n",
    "    save_to_json_file(dict_id_name_and_description, \"techniques_to_know\", \".\\\\files\\\\\")"
   ]
  }
 ],
 "metadata": {
  "kernelspec": {
   "display_name": "Python 3",
   "language": "python",
   "name": "python3"
  },
  "language_info": {
   "codemirror_mode": {
    "name": "ipython",
    "version": 2
   },
   "file_extension": ".py",
   "mimetype": "text/x-python",
   "name": "python",
   "nbconvert_exporter": "python",
   "pygments_lexer": "ipython2",
   "version": "2.7.6"
  }
 },
 "nbformat": 4,
 "nbformat_minor": 5
}
