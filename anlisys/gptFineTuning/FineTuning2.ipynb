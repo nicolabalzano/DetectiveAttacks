{
 "cells": [
  {
   "metadata": {
    "ExecuteTime": {
     "end_time": "2024-05-03T16:10:28.964800Z",
     "start_time": "2024-05-03T16:10:28.957308Z"
    }
   },
   "cell_type": "code",
   "source": [
    "import os\n",
    "from dotenv import load_dotenv\n",
    "from openai import AzureOpenAI\n",
    "\n",
    "load_dotenv()\n",
    "training_file_name = \"attack_pattern_training2.jsonl\"\n",
    "print('Done')#%%\n"
   ],
   "id": "5f3d8e9255ffc948",
   "outputs": [
    {
     "name": "stdout",
     "output_type": "stream",
     "text": [
      "Done\n"
     ]
    }
   ],
   "execution_count": 3
  },
  {
   "metadata": {
    "ExecuteTime": {
     "end_time": "2024-05-03T16:13:49.125584Z",
     "start_time": "2024-05-03T16:13:49.116116Z"
    }
   },
   "cell_type": "code",
   "source": [
    "from src.model.container import AttackPatternsContainer\n",
    "import json\n",
    "from src.model.interfaceToMitre.mitreData.utils.FileUtils import write_to_file, read_from_file\n",
    "\n",
    "messages = []\n",
    "\n",
    "for at in [at for at in AttackPatternsContainer().get_data() if 'atlas' in at.x_mitre_domains]:\n",
    "    if 'AML' in at.x_mitre_id:\n",
    "        system_targeted = ['LLM model']\n",
    "    else:\n",
    "        system_targeted = at.x_mitre_platforms\n",
    "\n",
    "    json_data = {\n",
    "                \"role\": \"system\",\n",
    "                \"content\": \"You are a chatbot specializing in the context of cybersecurity, the attack pattern known with the id \\'\" + at.x_mitre_id + \"\\' is: \" + at.name + ' .'\n",
    "    }\n",
    "\n",
    "    messages.append(json_data)\n",
    "\n",
    "    \n",
    "print('Done')"
   ],
   "id": "5637c2c87a19de3e",
   "outputs": [
    {
     "name": "stdout",
     "output_type": "stream",
     "text": [
      "Done\n"
     ]
    }
   ],
   "execution_count": 8
  },
  {
   "metadata": {
    "ExecuteTime": {
     "end_time": "2024-05-03T16:13:51.124404Z",
     "start_time": "2024-05-03T16:13:51.121360Z"
    }
   },
   "cell_type": "code",
   "source": "",
   "id": "16eb613fb3eb59c4",
   "outputs": [],
   "execution_count": 8
  },
  {
   "metadata": {
    "ExecuteTime": {
     "end_time": "2024-05-03T16:23:35.974789Z",
     "start_time": "2024-05-03T16:23:34.163252Z"
    }
   },
   "cell_type": "code",
   "source": [
    "load_dotenv()\n",
    "\n",
    "print(os.getenv(\"AZURE_OPENAI_API_KEY\"), os.getenv(\"AZURE_OPENAI_ENDPOINT\"))\n",
    "\n",
    "client = AzureOpenAI(\n",
    "    api_key=os.getenv(\"AZURE_OPENAI_API_KEY\"),\n",
    "    api_version=\"2024-02-01\",\n",
    "    azure_endpoint=os.getenv(\"AZURE_OPENAI_ENDPOINT\")\n",
    ")\n",
    "\n",
    "deployment_name = 'gpt-fine-tuning-test'\n",
    "# This will correspond to the custom name you chose for your deployment when you deployed a model. Use a gpt-35-turbo-instruct deployment.\n",
    "\n",
    "messages.append({\n",
    "            \"role\": \"user\",\n",
    "            \"content\": \"The description of these CVE to what attack pattern is related to? Description: TensorFlow is an Open Source Machine Learning Framework. In versions prior to 2.11.1 a malicious invalid input crashes a tensorflow model (Check Failed) and can be used to trigger a denial of service attack. A proof of concept can be constructed with the `Convolution3DTranspose` function. This Convolution3DTranspose layer is a very common API in modern neural networks. The ML models containing such vulnerable components could be deployed in ML applications or as cloud services. This failure could be potentially used to trigger a denial of service attack on ML cloud services. An attacker must have privilege to provide input to a `Convolution3DTranspose` call. This issue has been patched and users are advised to upgrade to version 2.11.1. There are no known workarounds for this vulnerability. Return the output in the format: id: <attack_pattern_id>.\"\n",
    "        })\n",
    "\n",
    "response = client.chat.completions.create(\n",
    "    model=deployment_name,\n",
    "    messages=messages\n",
    ")\n",
    "\n",
    "print(response.choices[0].message.content)"
   ],
   "id": "96217e46abb14067",
   "outputs": [
    {
     "name": "stdout",
     "output_type": "stream",
     "text": [
      "a76fd807e235483c86ee29e522b499f9 https://cti-gpt-fine-tuned.openai.azure.com/\n",
      "HTTP Request: POST https://cti-gpt-fine-tuned.openai.azure.com//openai/deployments/gpt-fine-tuning-test/chat/completions?api-version=2024-02-01 \"HTTP/1.1 200 OK\"\n",
      "Based on the description provided, the attack pattern related to the CVE described is:\n",
      "\n",
      "id: `AML.T0029`\n",
      "\n",
      "This attack pattern involves \"Denial of ML Service,\" where a malicious input can crash a TensorFlow model, resulting in a denial of service attack.\n"
     ]
    }
   ],
   "execution_count": 14
  },
  {
   "metadata": {
    "ExecuteTime": {
     "end_time": "2024-05-03T16:15:22.147689Z",
     "start_time": "2024-05-03T16:15:22.140189Z"
    }
   },
   "cell_type": "code",
   "source": "print(AttackPatternsContainer().get_object_from_data_by_mitre_id('AML.T0057').name)",
   "id": "4d95ec570319b2d7",
   "outputs": [
    {
     "name": "stdout",
     "output_type": "stream",
     "text": [
      "LLM Data Leakage\n"
     ]
    }
   ],
   "execution_count": 11
  },
  {
   "metadata": {},
   "cell_type": "code",
   "outputs": [],
   "execution_count": null,
   "source": "",
   "id": "b050d9acedd75453"
  }
 ],
 "metadata": {
  "kernelspec": {
   "display_name": "Python 3",
   "language": "python",
   "name": "python3"
  },
  "language_info": {
   "codemirror_mode": {
    "name": "ipython",
    "version": 2
   },
   "file_extension": ".py",
   "mimetype": "text/x-python",
   "name": "python",
   "nbconvert_exporter": "python",
   "pygments_lexer": "ipython2",
   "version": "2.7.6"
  }
 },
 "nbformat": 4,
 "nbformat_minor": 5
}
