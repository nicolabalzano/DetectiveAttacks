{
 "cells": [
  {
   "cell_type": "code",
   "id": "initial_id",
   "metadata": {
    "collapsed": true,
    "ExecuteTime": {
     "end_time": "2024-05-02T19:57:30.253822Z",
     "start_time": "2024-05-02T19:56:45.211415Z"
    }
   },
   "source": [
    "from src.model.container import AttackPatternsContainer\n",
    "import json\n",
    "from src.model.interfaceToMitre.mitreData.utils.FileUtils import write_to_file, read_from_file\n",
    "\n",
    "training_file_name = \"attack_pattern_training.jsonl\"\n",
    "data = []\n",
    "\n",
    "for at in AttackPatternsContainer().get_data():\n",
    "    if 'AML' in at.x_mitre_id:\n",
    "        system_targeted = ['LLM model']\n",
    "    else:\n",
    "        system_targeted = at.x_mitre_platforms\n",
    "\n",
    "    json_data = {\n",
    "        \"messages\": [\n",
    "            {\n",
    "                \"role\": \"system\",\n",
    "                \"content\": \"You are a chatbot specializing in the context of cybersecurity, you know many attack patterns.\"\n",
    "            },\n",
    "            {\n",
    "                \"role\": \"user\",\n",
    "                \"content\": \"What is the attack pattern known with the name: \\'\" + at.name + \"\\' and with the Id: \" + at.x_mitre_id + \" ?\"\n",
    "            },\n",
    "            {\n",
    "                \"role\": \"assistant\",\n",
    "                \"content\": \"The attack pattern with the name: \\'\" + at.name + \"\\' and with the Id: \" + at.x_mitre_id +\n",
    "                           \" is described as follows: \" + at.description.replace(\"\\n\", \"\") +\n",
    "                           \". The systems targeted by this attack pattern are: \" + ', '.join(system_targeted).replace(\"\\n\", \"\") + ' .'\n",
    "            }\n",
    "        ]\n",
    "    }\n",
    "\n",
    "    data.append(json_data)\n",
    "\n",
    "    write_to_file(json.dumps(data, ensure_ascii=False, separators=(',', ':')), training_file_name, './')\n",
    "\n",
    "\n",
    "validation_file_name = \"attack_pattern_validation.jsonl\"\n",
    "data =  []\n",
    "\n",
    "for at in AttackPatternsContainer().get_data():\n",
    "    if 'AML' in at.x_mitre_id:\n",
    "        system_targeted = ['LLM model']\n",
    "    else:\n",
    "        system_targeted = at.x_mitre_platforms\n",
    "\n",
    "    json_data = {\n",
    "        \"messages\": [\n",
    "            {\n",
    "                \"role\": \"system\",\n",
    "                \"content\": \"You are a chatbot specializing in the context of cybersecurity, you know many attack patterns.\"\n",
    "            },\n",
    "            {\n",
    "                \"role\": \"user\",\n",
    "                \"content\": \"What is the attack pattern Id \" + at.x_mitre_id + \" ?\"\n",
    "            },\n",
    "            {\n",
    "                \"role\": \"assistant\",\n",
    "                \"content\": \"The attack pattern \" + at.x_mitre_id + \" is : \" + at.description.replace(\"\\n\", \"\") +\n",
    "                           \". The systems targeted by this attack pattern are: \" + ', '.join(system_targeted).replace(\"\\n\", \"\") + ' .'\n",
    "            }\n",
    "        ]\n",
    "    }\n",
    "    \n",
    "    data.append(json_data)\n",
    "\n",
    "    write_to_file(json.dumps(data, ensure_ascii=False, separators=(',', ':')), validation_file_name, './')\n",
    "        \n",
    "    \n",
    "print('Done')"
   ],
   "outputs": [
    {
     "name": "stdout",
     "output_type": "stream",
     "text": [
      "enterprise-attack not change\n",
      "mobile-attack not change\n",
      "ics-attack not change\n",
      "atlas not change\n",
      "mitre-to-cve not change\n",
      "Done\n"
     ]
    }
   ],
   "execution_count": 1
  },
  {
   "metadata": {
    "ExecuteTime": {
     "end_time": "2024-05-02T19:57:30.343821Z",
     "start_time": "2024-05-02T19:57:30.256321Z"
    }
   },
   "cell_type": "code",
   "source": [
    "# Run preliminary checks\n",
    "\n",
    "import json\n",
    "\n",
    "# Load the training set\n",
    "training_dataset = json.loads(read_from_file('./', training_file_name))\n",
    "\n",
    "# Training dataset stats\n",
    "print(\"Number of examples in training set:\", len(training_dataset))\n",
    "print(\"First example in training set:\")\n",
    "print(training_dataset[0])\n",
    "for message in training_dataset[0][\"messages\"]:\n",
    "    print(message)\n",
    "\n",
    "# Load the validation set\n",
    "validation_dataset = json.loads(read_from_file('./', validation_file_name))\n",
    "\n",
    "# Validation dataset stats\n",
    "print(\"\\nNumber of examples in validation set:\", len(validation_dataset))\n",
    "print(\"First example in validation set:\")\n",
    "for message in validation_dataset[0][\"messages\"]:\n",
    "    print(message)"
   ],
   "id": "2ac127aff517cfc8",
   "outputs": [
    {
     "name": "stdout",
     "output_type": "stream",
     "text": [
      "Number of examples in training set: 1144\n",
      "First example in training set:\n",
      "{'messages': [{'role': 'system', 'content': 'You are a chatbot specializing in the context of cybersecurity, you know many attack patterns.'}, {'role': 'user', 'content': \"What is the attack pattern known with the name: 'Extra Window Memory Injection' and with the Id: T1055.011 ?\"}, {'role': 'assistant', 'content': \"The attack pattern with the name: 'Extra Window Memory Injection' and with the Id: T1055.011 is described as follows: Adversaries may inject malicious code into process via Extra Window Memory (EWM) in order to evade process-based defenses as well as possibly elevate privileges. EWM injection is a method of executing arbitrary code in the address space of a separate live process. Before creating a window, graphical Windows-based processes must prescribe to or register a windows class, which stipulate appearance and behavior (via windows procedures, which are functions that handle input/output of data).(Citation: Microsoft Window Classes) Registration of new windows classes can include a request for up to 40 bytes of EWM to be appended to the allocated memory of each instance of that class. This EWM is intended to store data specific to that window and has specific application programming interface (API) functions to set and get its value. (Citation: Microsoft GetWindowLong function) (Citation: Microsoft SetWindowLong function)Although small, the EWM is large enough to store a 32-bit pointer and is often used to point to a windows procedure. Malware may possibly utilize this memory location in part of an attack chain that includes writing code to shared sections of the process’s memory, placing a pointer to the code in EWM, then invoking execution by returning execution control to the address in the process’s EWM.Execution granted through EWM injection may allow access to both the target process's memory and possibly elevated privileges. Writing payloads to shared sections also avoids the use of highly monitored API calls such as <code>WriteProcessMemory</code> and <code>CreateRemoteThread</code>.(Citation: Elastic Process Injection July 2017) More sophisticated malware samples may also potentially bypass protection mechanisms such as data execution prevention (DEP) by triggering a combination of windows procedures and other system functions that will rewrite the malicious payload inside an executable portion of the target process.  (Citation: MalwareTech Power Loader Aug 2013) (Citation: WeLiveSecurity Gapz and Redyms Mar 2013)Running code in the context of another process may allow access to the process's memory, system/network resources, and possibly elevated privileges. Execution via EWM injection may also evade detection from security products since the execution is masked under a legitimate process. . The systems targeted by this attack pattern are: Windows .\"}]}\n",
      "{'role': 'system', 'content': 'You are a chatbot specializing in the context of cybersecurity, you know many attack patterns.'}\n",
      "{'role': 'user', 'content': \"What is the attack pattern known with the name: 'Extra Window Memory Injection' and with the Id: T1055.011 ?\"}\n",
      "{'role': 'assistant', 'content': \"The attack pattern with the name: 'Extra Window Memory Injection' and with the Id: T1055.011 is described as follows: Adversaries may inject malicious code into process via Extra Window Memory (EWM) in order to evade process-based defenses as well as possibly elevate privileges. EWM injection is a method of executing arbitrary code in the address space of a separate live process. Before creating a window, graphical Windows-based processes must prescribe to or register a windows class, which stipulate appearance and behavior (via windows procedures, which are functions that handle input/output of data).(Citation: Microsoft Window Classes) Registration of new windows classes can include a request for up to 40 bytes of EWM to be appended to the allocated memory of each instance of that class. This EWM is intended to store data specific to that window and has specific application programming interface (API) functions to set and get its value. (Citation: Microsoft GetWindowLong function) (Citation: Microsoft SetWindowLong function)Although small, the EWM is large enough to store a 32-bit pointer and is often used to point to a windows procedure. Malware may possibly utilize this memory location in part of an attack chain that includes writing code to shared sections of the process’s memory, placing a pointer to the code in EWM, then invoking execution by returning execution control to the address in the process’s EWM.Execution granted through EWM injection may allow access to both the target process's memory and possibly elevated privileges. Writing payloads to shared sections also avoids the use of highly monitored API calls such as <code>WriteProcessMemory</code> and <code>CreateRemoteThread</code>.(Citation: Elastic Process Injection July 2017) More sophisticated malware samples may also potentially bypass protection mechanisms such as data execution prevention (DEP) by triggering a combination of windows procedures and other system functions that will rewrite the malicious payload inside an executable portion of the target process.  (Citation: MalwareTech Power Loader Aug 2013) (Citation: WeLiveSecurity Gapz and Redyms Mar 2013)Running code in the context of another process may allow access to the process's memory, system/network resources, and possibly elevated privileges. Execution via EWM injection may also evade detection from security products since the execution is masked under a legitimate process. . The systems targeted by this attack pattern are: Windows .\"}\n",
      "\n",
      "Number of examples in validation set: 1144\n",
      "First example in validation set:\n",
      "{'role': 'system', 'content': 'You are a chatbot specializing in the context of cybersecurity, you know many attack patterns.'}\n",
      "{'role': 'user', 'content': 'What is the attack pattern Id T1055.011 ?'}\n",
      "{'role': 'assistant', 'content': \"The attack pattern T1055.011 is : Adversaries may inject malicious code into process via Extra Window Memory (EWM) in order to evade process-based defenses as well as possibly elevate privileges. EWM injection is a method of executing arbitrary code in the address space of a separate live process. Before creating a window, graphical Windows-based processes must prescribe to or register a windows class, which stipulate appearance and behavior (via windows procedures, which are functions that handle input/output of data).(Citation: Microsoft Window Classes) Registration of new windows classes can include a request for up to 40 bytes of EWM to be appended to the allocated memory of each instance of that class. This EWM is intended to store data specific to that window and has specific application programming interface (API) functions to set and get its value. (Citation: Microsoft GetWindowLong function) (Citation: Microsoft SetWindowLong function)Although small, the EWM is large enough to store a 32-bit pointer and is often used to point to a windows procedure. Malware may possibly utilize this memory location in part of an attack chain that includes writing code to shared sections of the process’s memory, placing a pointer to the code in EWM, then invoking execution by returning execution control to the address in the process’s EWM.Execution granted through EWM injection may allow access to both the target process's memory and possibly elevated privileges. Writing payloads to shared sections also avoids the use of highly monitored API calls such as <code>WriteProcessMemory</code> and <code>CreateRemoteThread</code>.(Citation: Elastic Process Injection July 2017) More sophisticated malware samples may also potentially bypass protection mechanisms such as data execution prevention (DEP) by triggering a combination of windows procedures and other system functions that will rewrite the malicious payload inside an executable portion of the target process.  (Citation: MalwareTech Power Loader Aug 2013) (Citation: WeLiveSecurity Gapz and Redyms Mar 2013)Running code in the context of another process may allow access to the process's memory, system/network resources, and possibly elevated privileges. Execution via EWM injection may also evade detection from security products since the execution is masked under a legitimate process. . The systems targeted by this attack pattern are: Windows .\"}\n"
     ]
    }
   ],
   "execution_count": 2
  },
  {
   "metadata": {
    "ExecuteTime": {
     "end_time": "2024-05-02T19:57:31.990322Z",
     "start_time": "2024-05-02T19:57:30.345822Z"
    }
   },
   "cell_type": "code",
   "source": [
    "# Validate token counts\n",
    "\n",
    "import json\n",
    "import tiktoken\n",
    "import numpy as np\n",
    "from collections import defaultdict\n",
    "\n",
    "encoding = tiktoken.get_encoding(\"cl100k_base\") # default encoding used by gpt-4, turbo, and text-embedding-ada-002 models\n",
    "\n",
    "def num_tokens_from_messages(messages, tokens_per_message=3, tokens_per_name=1):\n",
    "    num_tokens = 0\n",
    "    for message in messages:\n",
    "        num_tokens += tokens_per_message\n",
    "        for key, value in message.items():\n",
    "            num_tokens += len(encoding.encode(value))\n",
    "            if key == \"name\":\n",
    "                num_tokens += tokens_per_name\n",
    "    num_tokens += 3\n",
    "    return num_tokens\n",
    "\n",
    "def num_assistant_tokens_from_messages(messages):\n",
    "    num_tokens = 0\n",
    "    for message in messages:\n",
    "        if message[\"role\"] == \"assistant\":\n",
    "            num_tokens += len(encoding.encode(message[\"content\"]))\n",
    "    return num_tokens\n",
    "\n",
    "def print_distribution(values, name):\n",
    "    print(f\"\\n#### Distribution of {name}:\")\n",
    "    print(f\"min / max: {min(values)}, {max(values)}\")\n",
    "    print(f\"mean / median: {np.mean(values)}, {np.median(values)}\")\n",
    "    print(f\"p5 / p95: {np.quantile(values, 0.1)}, {np.quantile(values, 0.9)}\")\n",
    "\n",
    "datasets = [training_dataset, validation_dataset]\n",
    "\n",
    "for dataset in datasets:\n",
    "    total_tokens = []\n",
    "    assistant_tokens = []\n",
    "\n",
    "    for ex in dataset:\n",
    "        messages = ex.get(\"messages\", {})\n",
    "        total_tokens.append(num_tokens_from_messages(messages))\n",
    "        assistant_tokens.append(num_assistant_tokens_from_messages(messages))\n",
    "\n",
    "    print_distribution(total_tokens, \"total tokens\")\n",
    "    print_distribution(assistant_tokens, \"assistant tokens\")\n",
    "    print('*' * 50)"
   ],
   "id": "e56ceb682d89660d",
   "outputs": [
    {
     "name": "stdout",
     "output_type": "stream",
     "text": [
      "\n",
      "#### Distribution of total tokens:\n",
      "min / max: 94, 1105\n",
      "mean / median: 335.2132867132867, 305.0\n",
      "p5 / p95: 176.0, 529.4000000000001\n",
      "\n",
      "#### Distribution of assistant tokens:\n",
      "min / max: 37, 1044\n",
      "mean / median: 276.4973776223776, 247.0\n",
      "p5 / p95: 116.30000000000001, 469.70000000000005\n",
      "**************************************************\n",
      "\n",
      "#### Distribution of total tokens:\n",
      "min / max: 63, 1067\n",
      "mean / median: 302.8863636363636, 272.0\n",
      "p5 / p95: 142.3, 498.0\n",
      "\n",
      "#### Distribution of assistant tokens:\n",
      "min / max: 20, 1024\n",
      "mean / median: 258.8339160839161, 229.0\n",
      "p5 / p95: 98.60000000000002, 453.0\n",
      "**************************************************\n"
     ]
    }
   ],
   "execution_count": 3
  },
  {
   "metadata": {
    "ExecuteTime": {
     "end_time": "2024-05-02T19:57:32.612879Z",
     "start_time": "2024-05-02T19:57:31.991822Z"
    }
   },
   "cell_type": "code",
   "source": [
    "# Reformat the file jsonl to right format for the training\n",
    "import os\n",
    "training_file_name_formatted = \"attack_pattern_training_formatted.jsonl\"\n",
    "validation_file_name_formatted = \"attack_pattern_validation_formatted.jsonl\"\n",
    "os.remove(training_file_name_formatted)\n",
    "os.remove(validation_file_name_formatted)\n",
    "\n",
    "for filenames in [[training_file_name, training_file_name_formatted], [validation_file_name, validation_file_name_formatted]]:\n",
    "    file = open(filenames[0], \"rb\")\n",
    "    print(file)\n",
    "    \n",
    "    data = file.read()\n",
    "    \n",
    "    for line in json.loads(data):\n",
    "        with open(filenames[1], 'a') as f:\n",
    "            f.write(json.dumps(line))\n",
    "            f.write('\\n')"
   ],
   "id": "b18287c19b05d96c",
   "outputs": [
    {
     "name": "stdout",
     "output_type": "stream",
     "text": [
      "<_io.BufferedReader name='attack_pattern_training.jsonl'>\n",
      "<_io.BufferedReader name='attack_pattern_validation.jsonl'>\n"
     ]
    }
   ],
   "execution_count": 4
  },
  {
   "metadata": {
    "ExecuteTime": {
     "end_time": "2024-05-02T19:58:01.585092Z",
     "start_time": "2024-05-02T19:57:32.614828Z"
    }
   },
   "cell_type": "code",
   "source": [
    "from dotenv import load_dotenv\n",
    "# Upload fine-tuning files\n",
    "\n",
    "import os\n",
    "from openai import AzureOpenAI\n",
    "\n",
    "load_dotenv()\n",
    "\n",
    "\n",
    "client = AzureOpenAI(\n",
    "    azure_endpoint = os.getenv(\"AZURE_OPENAI_ENDPOINT\"),\n",
    "    api_key = os.getenv(\"AZURE_OPENAI_API_KEY\"),\n",
    "    api_version=\"2024-02-01\"\n",
    ")\n",
    "\n",
    "# Upload the training and validation dataset files to Azure OpenAI with the SDK.\n",
    "\n",
    "training_response = client.files.create(\n",
    "    file = open(training_file_name_formatted, \"rb\"), purpose=\"fine-tune\"\n",
    ")\n",
    "training_file_id = training_response.id\n",
    "\n",
    "validation_response = client.files.create(\n",
    "    file = open(validation_file_name_formatted, \"rb\"), purpose=\"fine-tune\"\n",
    ")\n",
    "validation_file_id = validation_response.id\n",
    "\n",
    "print(\"Training file ID:\", training_file_id)\n",
    "print(\"Validation file ID:\", validation_file_id)"
   ],
   "id": "62b94873c879c047",
   "outputs": [
    {
     "name": "stdout",
     "output_type": "stream",
     "text": [
      "HTTP Request: POST https://cti-gpt-fine-tuned.openai.azure.com//openai/files?api-version=2024-02-01 \"HTTP/1.1 201 Created\"\n",
      "HTTP Request: POST https://cti-gpt-fine-tuned.openai.azure.com//openai/files?api-version=2024-02-01 \"HTTP/1.1 201 Created\"\n",
      "Training file ID: file-8ad152d521144a19a9e0b9343aafba1d\n",
      "Validation file ID: file-c3499464dd0f426a959d844bf67d19c5\n"
     ]
    }
   ],
   "execution_count": 5
  },
  {
   "metadata": {
    "ExecuteTime": {
     "end_time": "2024-05-02T20:00:30.698742Z",
     "start_time": "2024-05-02T20:00:28.724144Z"
    }
   },
   "cell_type": "code",
   "source": [
    "# Submit fine-tuning training job\n",
    "\n",
    "response = client.fine_tuning.jobs.create(\n",
    "    training_file = training_file_id,\n",
    "    validation_file = validation_file_id,\n",
    "    model = \"gpt-35-turbo-0125\", # The model to fine-tune\n",
    ")\n",
    "\n",
    "job_id = response.id\n",
    "\n",
    "# You can use the job ID to monitor the status of the fine-tuning job.\n",
    "# The fine-tuning job will take some time to start and complete.\n",
    "\n",
    "print(\"Job ID:\", response.id)\n",
    "print(\"Status:\", response.status)\n",
    "print(response.model_dump_json(indent=2))"
   ],
   "id": "553f3085198e1657",
   "outputs": [
    {
     "name": "stdout",
     "output_type": "stream",
     "text": [
      "HTTP Request: POST https://cti-gpt-fine-tuned.openai.azure.com//openai/fine_tuning/jobs?api-version=2024-02-01 \"HTTP/1.1 201 Created\"\n",
      "Job ID: ftjob-9f7d681a3f264f2d8767a3711061ee6c\n",
      "Status: pending\n",
      "{\n",
      "  \"id\": \"ftjob-9f7d681a3f264f2d8767a3711061ee6c\",\n",
      "  \"created_at\": 1714680030,\n",
      "  \"error\": null,\n",
      "  \"fine_tuned_model\": null,\n",
      "  \"finished_at\": null,\n",
      "  \"hyperparameters\": {\n",
      "    \"n_epochs\": -1,\n",
      "    \"batch_size\": -1,\n",
      "    \"learning_rate_multiplier\": 1\n",
      "  },\n",
      "  \"model\": \"gpt-35-turbo-0125\",\n",
      "  \"object\": \"fine_tuning.job\",\n",
      "  \"organization_id\": null,\n",
      "  \"result_files\": null,\n",
      "  \"status\": \"pending\",\n",
      "  \"trained_tokens\": null,\n",
      "  \"training_file\": \"file-8ad152d521144a19a9e0b9343aafba1d\",\n",
      "  \"validation_file\": \"file-c3499464dd0f426a959d844bf67d19c5\"\n",
      "}\n"
     ]
    }
   ],
   "execution_count": 6
  },
  {
   "metadata": {},
   "cell_type": "code",
   "source": [
    "# Track training status\n",
    "\n",
    "from IPython.display import clear_output\n",
    "import time\n",
    "\n",
    "start_time = time.time()\n",
    "\n",
    "# Get the status of our fine-tuning job.\n",
    "response = client.fine_tuning.jobs.retrieve(job_id)\n",
    "\n",
    "status = response.status\n",
    "\n",
    "# If the job isn't done yet, poll it every 10 seconds.\n",
    "while status not in [\"succeeded\", \"failed\"]:\n",
    "    time.sleep(10)\n",
    "\n",
    "    response = client.fine_tuning.jobs.retrieve(job_id)\n",
    "    print(response.model_dump_json(indent=2))\n",
    "    print(\"Elapsed time: {} minutes {} seconds\".format(int((time.time() - start_time) // 60), int((time.time() - start_time) % 60)))\n",
    "    status = response.status\n",
    "    print(f'Status: {status}')\n",
    "    clear_output(wait=True)\n",
    "\n",
    "print(f'Fine-tuning job {job_id} finished with status: {status}')\n",
    "\n",
    "# List all fine-tuning jobs for this resource.\n",
    "print('Checking other fine-tune jobs for this resource.')\n",
    "response = client.fine_tuning.jobs.list()\n",
    "print(f'Found {len(response.data)} fine-tune jobs.')"
   ],
   "id": "3c5031476997f0e6",
   "execution_count": 8,
   "outputs": []
  },
  {
   "metadata": {
    "ExecuteTime": {
     "end_time": "2024-05-02T20:02:02.130836Z",
     "start_time": "2024-05-02T20:02:02.130836Z"
    }
   },
   "cell_type": "code",
   "source": [
    "# Retrieve fine_tuned_model name \n",
    "\n",
    "response = client.fine_tuning.jobs.retrieve(job_id)\n",
    "\n",
    "print(response.model_dump_json(indent=2))\n",
    "fine_tuned_model = response.fine_tuned_model"
   ],
   "id": "eb34008fe2b107ed",
   "outputs": [],
   "execution_count": null
  },
  {
   "metadata": {},
   "cell_type": "code",
   "outputs": [],
   "execution_count": null,
   "source": "",
   "id": "a844978197c81f0c"
  }
 ],
 "metadata": {
  "kernelspec": {
   "display_name": "Python 3",
   "language": "python",
   "name": "python3"
  },
  "language_info": {
   "codemirror_mode": {
    "name": "ipython",
    "version": 2
   },
   "file_extension": ".py",
   "mimetype": "text/x-python",
   "name": "python",
   "nbconvert_exporter": "python",
   "pygments_lexer": "ipython2",
   "version": "2.7.6"
  }
 },
 "nbformat": 4,
 "nbformat_minor": 5
}
