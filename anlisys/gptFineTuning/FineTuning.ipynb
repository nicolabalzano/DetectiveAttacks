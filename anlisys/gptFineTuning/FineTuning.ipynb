{
 "cells": [
  {
   "metadata": {
    "ExecuteTime": {
     "end_time": "2024-05-03T07:51:12.691121Z",
     "start_time": "2024-05-03T07:51:11.641446Z"
    }
   },
   "cell_type": "code",
   "source": [
    "import os\n",
    "from dotenv import load_dotenv\n",
    "from openai import AzureOpenAI\n",
    "\n",
    "load_dotenv()\n",
    "training_file_name = \"attack_pattern_training.jsonl\"\n",
    "validation_file_name = \"attack_pattern_validation.jsonl\"\n",
    "print('Done')"
   ],
   "id": "4ff0fc457264bd3",
   "outputs": [
    {
     "name": "stdout",
     "output_type": "stream",
     "text": [
      "Done\n"
     ]
    }
   ],
   "execution_count": 1
  },
  {
   "cell_type": "code",
   "id": "initial_id",
   "metadata": {
    "collapsed": true,
    "ExecuteTime": {
     "end_time": "2024-05-02T19:57:30.253822Z",
     "start_time": "2024-05-02T19:56:45.211415Z"
    }
   },
   "source": [
    "from src.model.container import AttackPatternsContainer\n",
    "import json\n",
    "from src.model.interfaceToMitre.mitreData.utils.FileUtils import write_to_file, read_from_file\n",
    "\n",
    "data = []\n",
    "\n",
    "for at in AttackPatternsContainer().get_data():\n",
    "    if 'AML' in at.x_mitre_id:\n",
    "        system_targeted = ['LLM model']\n",
    "    else:\n",
    "        system_targeted = at.x_mitre_platforms\n",
    "\n",
    "    json_data = {\n",
    "        \"messages\": [\n",
    "            {\n",
    "                \"role\": \"system\",\n",
    "                \"content\": \"You are a chatbot specializing in the context of cybersecurity, you know many attack patterns.\"\n",
    "            },\n",
    "            {\n",
    "                \"role\": \"user\",\n",
    "                \"content\": \"What is the attack pattern known with the name: \\'\" + at.name + \"\\' and with the Id: \" + at.x_mitre_id + \" ?\"\n",
    "            },\n",
    "            {\n",
    "                \"role\": \"assistant\",\n",
    "                \"content\": \"The attack pattern with the name: \\'\" + at.name + \"\\' and with the Id: \" + at.x_mitre_id +\n",
    "                           \" is described as follows: \" + at.description.replace(\"\\n\", \"\") +\n",
    "                           \". The systems targeted by this attack pattern are: \" + ', '.join(system_targeted).replace(\"\\n\", \"\") + ' .'\n",
    "            }\n",
    "        ]\n",
    "    }\n",
    "\n",
    "    data.append(json_data)\n",
    "\n",
    "    write_to_file(json.dumps(data, ensure_ascii=False, separators=(',', ':')), training_file_name, './')\n",
    "\n",
    "\n",
    "data =  []\n",
    "\n",
    "for at in AttackPatternsContainer().get_data():\n",
    "    if 'AML' in at.x_mitre_id:\n",
    "        system_targeted = ['LLM model']\n",
    "    else:\n",
    "        system_targeted = at.x_mitre_platforms\n",
    "\n",
    "    json_data = {\n",
    "        \"messages\": [\n",
    "            {\n",
    "                \"role\": \"system\",\n",
    "                \"content\": \"You are a chatbot specializing in the context of cybersecurity, you know many attack patterns.\"\n",
    "            },\n",
    "            {\n",
    "                \"role\": \"user\",\n",
    "                \"content\": \"What is the attack pattern Id \" + at.x_mitre_id + \" ?\"\n",
    "            },\n",
    "            {\n",
    "                \"role\": \"assistant\",\n",
    "                \"content\": \"The attack pattern \" + at.x_mitre_id + \" is : \" + at.description.replace(\"\\n\", \"\") +\n",
    "                           \". The systems targeted by this attack pattern are: \" + ', '.join(system_targeted).replace(\"\\n\", \"\") + ' .'\n",
    "            }\n",
    "        ]\n",
    "    }\n",
    "    \n",
    "    data.append(json_data)\n",
    "\n",
    "    write_to_file(json.dumps(data, ensure_ascii=False, separators=(',', ':')), validation_file_name, './')\n",
    "        \n",
    "    \n",
    "print('Done')"
   ],
   "outputs": [
    {
     "name": "stdout",
     "output_type": "stream",
     "text": [
      "enterprise-attack not change\n",
      "mobile-attack not change\n",
      "ics-attack not change\n",
      "atlas not change\n",
      "mitre-to-cve not change\n",
      "Done\n"
     ]
    }
   ],
   "execution_count": 1
  },
  {
   "metadata": {
    "ExecuteTime": {
     "end_time": "2024-05-02T19:57:30.343821Z",
     "start_time": "2024-05-02T19:57:30.256321Z"
    }
   },
   "cell_type": "code",
   "source": [
    "# Run preliminary checks\n",
    "\n",
    "import json\n",
    "\n",
    "# Load the training set\n",
    "training_dataset = json.loads(read_from_file('./', training_file_name))\n",
    "\n",
    "# Training dataset stats\n",
    "print(\"Number of examples in training set:\", len(training_dataset))\n",
    "print(\"First example in training set:\")\n",
    "print(training_dataset[0])\n",
    "for message in training_dataset[0][\"messages\"]:\n",
    "    print(message)\n",
    "\n",
    "# Load the validation set\n",
    "validation_dataset = json.loads(read_from_file('./', validation_file_name))\n",
    "\n",
    "# Validation dataset stats\n",
    "print(\"\\nNumber of examples in validation set:\", len(validation_dataset))\n",
    "print(\"First example in validation set:\")\n",
    "for message in validation_dataset[0][\"messages\"]:\n",
    "    print(message)"
   ],
   "id": "2ac127aff517cfc8",
   "outputs": [
    {
     "name": "stdout",
     "output_type": "stream",
     "text": [
      "Number of examples in training set: 1144\n",
      "First example in training set:\n",
      "{'messages': [{'role': 'system', 'content': 'You are a chatbot specializing in the context of cybersecurity, you know many attack patterns.'}, {'role': 'user', 'content': \"What is the attack pattern known with the name: 'Extra Window Memory Injection' and with the Id: T1055.011 ?\"}, {'role': 'assistant', 'content': \"The attack pattern with the name: 'Extra Window Memory Injection' and with the Id: T1055.011 is described as follows: Adversaries may inject malicious code into process via Extra Window Memory (EWM) in order to evade process-based defenses as well as possibly elevate privileges. EWM injection is a method of executing arbitrary code in the address space of a separate live process. Before creating a window, graphical Windows-based processes must prescribe to or register a windows class, which stipulate appearance and behavior (via windows procedures, which are functions that handle input/output of data).(Citation: Microsoft Window Classes) Registration of new windows classes can include a request for up to 40 bytes of EWM to be appended to the allocated memory of each instance of that class. This EWM is intended to store data specific to that window and has specific application programming interface (API) functions to set and get its value. (Citation: Microsoft GetWindowLong function) (Citation: Microsoft SetWindowLong function)Although small, the EWM is large enough to store a 32-bit pointer and is often used to point to a windows procedure. Malware may possibly utilize this memory location in part of an attack chain that includes writing code to shared sections of the process’s memory, placing a pointer to the code in EWM, then invoking execution by returning execution control to the address in the process’s EWM.Execution granted through EWM injection may allow access to both the target process's memory and possibly elevated privileges. Writing payloads to shared sections also avoids the use of highly monitored API calls such as <code>WriteProcessMemory</code> and <code>CreateRemoteThread</code>.(Citation: Elastic Process Injection July 2017) More sophisticated malware samples may also potentially bypass protection mechanisms such as data execution prevention (DEP) by triggering a combination of windows procedures and other system functions that will rewrite the malicious payload inside an executable portion of the target process.  (Citation: MalwareTech Power Loader Aug 2013) (Citation: WeLiveSecurity Gapz and Redyms Mar 2013)Running code in the context of another process may allow access to the process's memory, system/network resources, and possibly elevated privileges. Execution via EWM injection may also evade detection from security products since the execution is masked under a legitimate process. . The systems targeted by this attack pattern are: Windows .\"}]}\n",
      "{'role': 'system', 'content': 'You are a chatbot specializing in the context of cybersecurity, you know many attack patterns.'}\n",
      "{'role': 'user', 'content': \"What is the attack pattern known with the name: 'Extra Window Memory Injection' and with the Id: T1055.011 ?\"}\n",
      "{'role': 'assistant', 'content': \"The attack pattern with the name: 'Extra Window Memory Injection' and with the Id: T1055.011 is described as follows: Adversaries may inject malicious code into process via Extra Window Memory (EWM) in order to evade process-based defenses as well as possibly elevate privileges. EWM injection is a method of executing arbitrary code in the address space of a separate live process. Before creating a window, graphical Windows-based processes must prescribe to or register a windows class, which stipulate appearance and behavior (via windows procedures, which are functions that handle input/output of data).(Citation: Microsoft Window Classes) Registration of new windows classes can include a request for up to 40 bytes of EWM to be appended to the allocated memory of each instance of that class. This EWM is intended to store data specific to that window and has specific application programming interface (API) functions to set and get its value. (Citation: Microsoft GetWindowLong function) (Citation: Microsoft SetWindowLong function)Although small, the EWM is large enough to store a 32-bit pointer and is often used to point to a windows procedure. Malware may possibly utilize this memory location in part of an attack chain that includes writing code to shared sections of the process’s memory, placing a pointer to the code in EWM, then invoking execution by returning execution control to the address in the process’s EWM.Execution granted through EWM injection may allow access to both the target process's memory and possibly elevated privileges. Writing payloads to shared sections also avoids the use of highly monitored API calls such as <code>WriteProcessMemory</code> and <code>CreateRemoteThread</code>.(Citation: Elastic Process Injection July 2017) More sophisticated malware samples may also potentially bypass protection mechanisms such as data execution prevention (DEP) by triggering a combination of windows procedures and other system functions that will rewrite the malicious payload inside an executable portion of the target process.  (Citation: MalwareTech Power Loader Aug 2013) (Citation: WeLiveSecurity Gapz and Redyms Mar 2013)Running code in the context of another process may allow access to the process's memory, system/network resources, and possibly elevated privileges. Execution via EWM injection may also evade detection from security products since the execution is masked under a legitimate process. . The systems targeted by this attack pattern are: Windows .\"}\n",
      "\n",
      "Number of examples in validation set: 1144\n",
      "First example in validation set:\n",
      "{'role': 'system', 'content': 'You are a chatbot specializing in the context of cybersecurity, you know many attack patterns.'}\n",
      "{'role': 'user', 'content': 'What is the attack pattern Id T1055.011 ?'}\n",
      "{'role': 'assistant', 'content': \"The attack pattern T1055.011 is : Adversaries may inject malicious code into process via Extra Window Memory (EWM) in order to evade process-based defenses as well as possibly elevate privileges. EWM injection is a method of executing arbitrary code in the address space of a separate live process. Before creating a window, graphical Windows-based processes must prescribe to or register a windows class, which stipulate appearance and behavior (via windows procedures, which are functions that handle input/output of data).(Citation: Microsoft Window Classes) Registration of new windows classes can include a request for up to 40 bytes of EWM to be appended to the allocated memory of each instance of that class. This EWM is intended to store data specific to that window and has specific application programming interface (API) functions to set and get its value. (Citation: Microsoft GetWindowLong function) (Citation: Microsoft SetWindowLong function)Although small, the EWM is large enough to store a 32-bit pointer and is often used to point to a windows procedure. Malware may possibly utilize this memory location in part of an attack chain that includes writing code to shared sections of the process’s memory, placing a pointer to the code in EWM, then invoking execution by returning execution control to the address in the process’s EWM.Execution granted through EWM injection may allow access to both the target process's memory and possibly elevated privileges. Writing payloads to shared sections also avoids the use of highly monitored API calls such as <code>WriteProcessMemory</code> and <code>CreateRemoteThread</code>.(Citation: Elastic Process Injection July 2017) More sophisticated malware samples may also potentially bypass protection mechanisms such as data execution prevention (DEP) by triggering a combination of windows procedures and other system functions that will rewrite the malicious payload inside an executable portion of the target process.  (Citation: MalwareTech Power Loader Aug 2013) (Citation: WeLiveSecurity Gapz and Redyms Mar 2013)Running code in the context of another process may allow access to the process's memory, system/network resources, and possibly elevated privileges. Execution via EWM injection may also evade detection from security products since the execution is masked under a legitimate process. . The systems targeted by this attack pattern are: Windows .\"}\n"
     ]
    }
   ],
   "execution_count": 2
  },
  {
   "metadata": {
    "ExecuteTime": {
     "end_time": "2024-05-02T19:57:31.990322Z",
     "start_time": "2024-05-02T19:57:30.345822Z"
    }
   },
   "cell_type": "code",
   "source": [
    "# Validate token counts\n",
    "\n",
    "import json\n",
    "import tiktoken\n",
    "import numpy as np\n",
    "from collections import defaultdict\n",
    "\n",
    "encoding = tiktoken.get_encoding(\"cl100k_base\") # default encoding used by gpt-4, turbo, and text-embedding-ada-002 models\n",
    "\n",
    "def num_tokens_from_messages(messages, tokens_per_message=3, tokens_per_name=1):\n",
    "    num_tokens = 0\n",
    "    for message in messages:\n",
    "        num_tokens += tokens_per_message\n",
    "        for key, value in message.items():\n",
    "            num_tokens += len(encoding.encode(value))\n",
    "            if key == \"name\":\n",
    "                num_tokens += tokens_per_name\n",
    "    num_tokens += 3\n",
    "    return num_tokens\n",
    "\n",
    "def num_assistant_tokens_from_messages(messages):\n",
    "    num_tokens = 0\n",
    "    for message in messages:\n",
    "        if message[\"role\"] == \"assistant\":\n",
    "            num_tokens += len(encoding.encode(message[\"content\"]))\n",
    "    return num_tokens\n",
    "\n",
    "def print_distribution(values, name):\n",
    "    print(f\"\\n#### Distribution of {name}:\")\n",
    "    print(f\"min / max: {min(values)}, {max(values)}\")\n",
    "    print(f\"mean / median: {np.mean(values)}, {np.median(values)}\")\n",
    "    print(f\"p5 / p95: {np.quantile(values, 0.1)}, {np.quantile(values, 0.9)}\")\n",
    "\n",
    "datasets = [training_dataset, validation_dataset]\n",
    "\n",
    "for dataset in datasets:\n",
    "    total_tokens = []\n",
    "    assistant_tokens = []\n",
    "\n",
    "    for ex in dataset:\n",
    "        messages = ex.get(\"messages\", {})\n",
    "        total_tokens.append(num_tokens_from_messages(messages))\n",
    "        assistant_tokens.append(num_assistant_tokens_from_messages(messages))\n",
    "\n",
    "    print_distribution(total_tokens, \"total tokens\")\n",
    "    print_distribution(assistant_tokens, \"assistant tokens\")\n",
    "    print('*' * 50)"
   ],
   "id": "e56ceb682d89660d",
   "outputs": [
    {
     "name": "stdout",
     "output_type": "stream",
     "text": [
      "\n",
      "#### Distribution of total tokens:\n",
      "min / max: 94, 1105\n",
      "mean / median: 335.2132867132867, 305.0\n",
      "p5 / p95: 176.0, 529.4000000000001\n",
      "\n",
      "#### Distribution of assistant tokens:\n",
      "min / max: 37, 1044\n",
      "mean / median: 276.4973776223776, 247.0\n",
      "p5 / p95: 116.30000000000001, 469.70000000000005\n",
      "**************************************************\n",
      "\n",
      "#### Distribution of total tokens:\n",
      "min / max: 63, 1067\n",
      "mean / median: 302.8863636363636, 272.0\n",
      "p5 / p95: 142.3, 498.0\n",
      "\n",
      "#### Distribution of assistant tokens:\n",
      "min / max: 20, 1024\n",
      "mean / median: 258.8339160839161, 229.0\n",
      "p5 / p95: 98.60000000000002, 453.0\n",
      "**************************************************\n"
     ]
    }
   ],
   "execution_count": 3
  },
  {
   "metadata": {
    "ExecuteTime": {
     "end_time": "2024-05-03T07:51:21.497156Z",
     "start_time": "2024-05-03T07:51:21.471319Z"
    }
   },
   "cell_type": "code",
   "source": [
    "training_file_name_formatted = \"attack_pattern_training_formatted.jsonl\"\n",
    "validation_file_name_formatted = \"attack_pattern_validation_formatted.jsonl\"\n",
    "print('Done')"
   ],
   "id": "e4e2ec77e78d749c",
   "outputs": [
    {
     "name": "stdout",
     "output_type": "stream",
     "text": [
      "Done\n"
     ]
    }
   ],
   "execution_count": 2
  },
  {
   "metadata": {
    "ExecuteTime": {
     "end_time": "2024-05-02T19:57:32.612879Z",
     "start_time": "2024-05-02T19:57:31.991822Z"
    }
   },
   "cell_type": "code",
   "source": [
    "# Reformat the file jsonl to right format for the training\n",
    "import os\n",
    "os.remove(training_file_name_formatted)\n",
    "os.remove(validation_file_name_formatted)\n",
    "\n",
    "for filenames in [[training_file_name, training_file_name_formatted], [validation_file_name, validation_file_name_formatted]]:\n",
    "    file = open(filenames[0], \"rb\")\n",
    "    print(file)\n",
    "    \n",
    "    data = file.read()\n",
    "    \n",
    "    for line in json.loads(data):\n",
    "        with open(filenames[1], 'a') as f:\n",
    "            f.write(json.dumps(line))\n",
    "            f.write('\\n')"
   ],
   "id": "b18287c19b05d96c",
   "outputs": [
    {
     "name": "stdout",
     "output_type": "stream",
     "text": [
      "<_io.BufferedReader name='attack_pattern_training.jsonl'>\n",
      "<_io.BufferedReader name='attack_pattern_validation.jsonl'>\n"
     ]
    }
   ],
   "execution_count": 4
  },
  {
   "metadata": {
    "ExecuteTime": {
     "end_time": "2024-05-03T08:49:54.579680Z",
     "start_time": "2024-05-03T08:49:54.532001Z"
    }
   },
   "cell_type": "code",
   "source": [
    "\n",
    "load_dotenv()\n",
    "\n",
    "\n",
    "client = AzureOpenAI(\n",
    "    azure_endpoint = os.getenv(\"AZURE_OPENAI_ENDPOINT\"),\n",
    "    api_key = os.getenv(\"AZURE_OPENAI_API_KEY\"),\n",
    "    api_version=\"2024-02-01\"\n",
    ")\n",
    "\n",
    "# Upload the training and validation dataset files to Azure OpenAI with the SDK.\n",
    "\n",
    "training_response = client.files.create(\n",
    "    file = open(training_file_name_formatted, \"rb\"), purpose=\"fine-tune\"\n",
    ")\n",
    "training_file_id = training_response.id\n",
    "\n",
    "validation_response = client.files.create(\n",
    "    file = open(validation_file_name_formatted, \"rb\"), purpose=\"fine-tune\"\n",
    ")\n",
    "validation_file_id = validation_response.id\n",
    "\n",
    "print(\"Training file ID:\", training_file_id)\n",
    "print(\"Validation file ID:\", validation_file_id)"
   ],
   "id": "62b94873c879c047",
   "outputs": [
    {
     "ename": "OpenAIError",
     "evalue": "Missing credentials. Please pass one of `api_key`, `azure_ad_token`, `azure_ad_token_provider`, or the `AZURE_OPENAI_API_KEY` or `AZURE_OPENAI_AD_TOKEN` environment variables.",
     "output_type": "error",
     "traceback": [
      "\u001B[1;31m---------------------------------------------------------------------------\u001B[0m",
      "\u001B[1;31mOpenAIError\u001B[0m                               Traceback (most recent call last)",
      "Cell \u001B[1;32mIn[7], line 4\u001B[0m\n\u001B[0;32m      1\u001B[0m load_dotenv()\n\u001B[1;32m----> 4\u001B[0m client \u001B[38;5;241m=\u001B[39m \u001B[43mAzureOpenAI\u001B[49m\u001B[43m(\u001B[49m\n\u001B[0;32m      5\u001B[0m \u001B[43m    \u001B[49m\u001B[43mazure_endpoint\u001B[49m\u001B[43m \u001B[49m\u001B[38;5;241;43m=\u001B[39;49m\u001B[43m \u001B[49m\u001B[43mos\u001B[49m\u001B[38;5;241;43m.\u001B[39;49m\u001B[43mgetenv\u001B[49m\u001B[43m(\u001B[49m\u001B[38;5;124;43m\"\u001B[39;49m\u001B[38;5;124;43mAZURE_OPENAI_ENDPOINT\u001B[39;49m\u001B[38;5;124;43m\"\u001B[39;49m\u001B[43m)\u001B[49m\u001B[43m,\u001B[49m\n\u001B[0;32m      6\u001B[0m \u001B[43m    \u001B[49m\u001B[43mapi_key\u001B[49m\u001B[43m \u001B[49m\u001B[38;5;241;43m=\u001B[39;49m\u001B[43m \u001B[49m\u001B[43mos\u001B[49m\u001B[38;5;241;43m.\u001B[39;49m\u001B[43mgetenv\u001B[49m\u001B[43m(\u001B[49m\u001B[38;5;124;43m\"\u001B[39;49m\u001B[38;5;124;43mAZURE_OPENAI_API_KEY\u001B[39;49m\u001B[38;5;124;43m\"\u001B[39;49m\u001B[43m)\u001B[49m\u001B[43m,\u001B[49m\n\u001B[0;32m      7\u001B[0m \u001B[43m    \u001B[49m\u001B[43mapi_version\u001B[49m\u001B[38;5;241;43m=\u001B[39;49m\u001B[38;5;124;43m\"\u001B[39;49m\u001B[38;5;124;43m2024-02-01\u001B[39;49m\u001B[38;5;124;43m\"\u001B[39;49m\n\u001B[0;32m      8\u001B[0m \u001B[43m)\u001B[49m\n\u001B[0;32m     10\u001B[0m \u001B[38;5;66;03m# Upload the training and validation dataset files to Azure OpenAI with the SDK.\u001B[39;00m\n\u001B[0;32m     12\u001B[0m training_response \u001B[38;5;241m=\u001B[39m client\u001B[38;5;241m.\u001B[39mfiles\u001B[38;5;241m.\u001B[39mcreate(\n\u001B[0;32m     13\u001B[0m     file \u001B[38;5;241m=\u001B[39m \u001B[38;5;28mopen\u001B[39m(training_file_name_formatted, \u001B[38;5;124m\"\u001B[39m\u001B[38;5;124mrb\u001B[39m\u001B[38;5;124m\"\u001B[39m), purpose\u001B[38;5;241m=\u001B[39m\u001B[38;5;124m\"\u001B[39m\u001B[38;5;124mfine-tune\u001B[39m\u001B[38;5;124m\"\u001B[39m\n\u001B[0;32m     14\u001B[0m )\n",
      "File \u001B[1;32m~\\AppData\\Local\\Programs\\Python\\Python310\\lib\\site-packages\\openai\\lib\\azure.py:169\u001B[0m, in \u001B[0;36mAzureOpenAI.__init__\u001B[1;34m(self, api_version, azure_endpoint, azure_deployment, api_key, azure_ad_token, azure_ad_token_provider, organization, project, base_url, timeout, max_retries, default_headers, default_query, http_client, _strict_response_validation)\u001B[0m\n\u001B[0;32m    166\u001B[0m     azure_ad_token \u001B[38;5;241m=\u001B[39m os\u001B[38;5;241m.\u001B[39menviron\u001B[38;5;241m.\u001B[39mget(\u001B[38;5;124m\"\u001B[39m\u001B[38;5;124mAZURE_OPENAI_AD_TOKEN\u001B[39m\u001B[38;5;124m\"\u001B[39m)\n\u001B[0;32m    168\u001B[0m \u001B[38;5;28;01mif\u001B[39;00m api_key \u001B[38;5;129;01mis\u001B[39;00m \u001B[38;5;28;01mNone\u001B[39;00m \u001B[38;5;129;01mand\u001B[39;00m azure_ad_token \u001B[38;5;129;01mis\u001B[39;00m \u001B[38;5;28;01mNone\u001B[39;00m \u001B[38;5;129;01mand\u001B[39;00m azure_ad_token_provider \u001B[38;5;129;01mis\u001B[39;00m \u001B[38;5;28;01mNone\u001B[39;00m:\n\u001B[1;32m--> 169\u001B[0m     \u001B[38;5;28;01mraise\u001B[39;00m OpenAIError(\n\u001B[0;32m    170\u001B[0m         \u001B[38;5;124m\"\u001B[39m\u001B[38;5;124mMissing credentials. Please pass one of `api_key`, `azure_ad_token`, `azure_ad_token_provider`, or the `AZURE_OPENAI_API_KEY` or `AZURE_OPENAI_AD_TOKEN` environment variables.\u001B[39m\u001B[38;5;124m\"\u001B[39m\n\u001B[0;32m    171\u001B[0m     )\n\u001B[0;32m    173\u001B[0m \u001B[38;5;28;01mif\u001B[39;00m api_version \u001B[38;5;129;01mis\u001B[39;00m \u001B[38;5;28;01mNone\u001B[39;00m:\n\u001B[0;32m    174\u001B[0m     api_version \u001B[38;5;241m=\u001B[39m os\u001B[38;5;241m.\u001B[39menviron\u001B[38;5;241m.\u001B[39mget(\u001B[38;5;124m\"\u001B[39m\u001B[38;5;124mOPENAI_API_VERSION\u001B[39m\u001B[38;5;124m\"\u001B[39m)\n",
      "\u001B[1;31mOpenAIError\u001B[0m: Missing credentials. Please pass one of `api_key`, `azure_ad_token`, `azure_ad_token_provider`, or the `AZURE_OPENAI_API_KEY` or `AZURE_OPENAI_AD_TOKEN` environment variables."
     ]
    }
   ],
   "execution_count": 7
  },
  {
   "metadata": {
    "ExecuteTime": {
     "end_time": "2024-05-02T20:00:30.698742Z",
     "start_time": "2024-05-02T20:00:28.724144Z"
    }
   },
   "cell_type": "code",
   "source": [
    "# Submit fine-tuning training job\n",
    "\n",
    "response = client.fine_tuning.jobs.create(\n",
    "    training_file = training_file_id,\n",
    "    validation_file = validation_file_id,\n",
    "    model = \"gpt-35-turbo-0125\", # The model to fine-tune\n",
    ")\n",
    "\n",
    "job_id = response.id\n",
    "\n",
    "# You can use the job ID to monitor the status of the fine-tuning job.\n",
    "# The fine-tuning job will take some time to start and complete.\n",
    "\n",
    "print(\"Job ID:\", response.id)\n",
    "print(\"Status:\", response.status)\n",
    "print(response.model_dump_json(indent=2))"
   ],
   "id": "553f3085198e1657",
   "outputs": [
    {
     "name": "stdout",
     "output_type": "stream",
     "text": [
      "HTTP Request: POST https://cti-gpt-fine-tuned.openai.azure.com//openai/fine_tuning/jobs?api-version=2024-02-01 \"HTTP/1.1 201 Created\"\n",
      "Job ID: ftjob-9f7d681a3f264f2d8767a3711061ee6c\n",
      "Status: pending\n",
      "{\n",
      "  \"id\": \"ftjob-9f7d681a3f264f2d8767a3711061ee6c\",\n",
      "  \"created_at\": 1714680030,\n",
      "  \"error\": null,\n",
      "  \"fine_tuned_model\": null,\n",
      "  \"finished_at\": null,\n",
      "  \"hyperparameters\": {\n",
      "    \"n_epochs\": -1,\n",
      "    \"batch_size\": -1,\n",
      "    \"learning_rate_multiplier\": 1\n",
      "  },\n",
      "  \"model\": \"gpt-35-turbo-0125\",\n",
      "  \"object\": \"fine_tuning.job\",\n",
      "  \"organization_id\": null,\n",
      "  \"result_files\": null,\n",
      "  \"status\": \"pending\",\n",
      "  \"trained_tokens\": null,\n",
      "  \"training_file\": \"file-8ad152d521144a19a9e0b9343aafba1d\",\n",
      "  \"validation_file\": \"file-c3499464dd0f426a959d844bf67d19c5\"\n",
      "}\n"
     ]
    }
   ],
   "execution_count": 6
  },
  {
   "metadata": {
    "ExecuteTime": {
     "end_time": "2024-05-03T08:51:56.498817Z",
     "start_time": "2024-05-03T08:51:54.816277Z"
    }
   },
   "cell_type": "code",
   "source": [
    "# Track training status\n",
    "from dotenv import load_dotenv\n",
    "import os\n",
    "from openai import AzureOpenAI\n",
    "\n",
    "from IPython.display import clear_output\n",
    "import time\n",
    "\n",
    "start_time = time.time()\n",
    "load_dotenv('C:\\\\Users\\\\nikba\\\\Desktop\\\\uni\\\\Tesi\\\\DetectiveAttack\\\\.env')\n",
    "job_id = 'ftjob-9f7d681a3f264f2d8767a3711061ee6c'\n",
    "\n",
    "client = AzureOpenAI(\n",
    "    azure_endpoint = os.getenv(\"AZURE_OPENAI_ENDPOINT\"),\n",
    "    api_key = os.getenv(\"AZURE_OPENAI_API_KEY\"),\n",
    "    api_version=\"2024-02-01\"\n",
    ")\n",
    "\n",
    "# Get the status of our fine-tuning job.\n",
    "response = client.fine_tuning.jobs.retrieve(job_id)\n",
    "\n",
    "status = response.status\n",
    "\n",
    "# If the job isn't done yet, poll it every 10 seconds.\n",
    "while status not in [\"succeeded\", \"failed\"]:\n",
    "    time.sleep(10)\n",
    "\n",
    "    response = client.fine_tuning.jobs.retrieve(job_id)\n",
    "    print(response.model_dump_json(indent=2))\n",
    "    print(\"Elapsed time: {} minutes {} seconds\".format(int((time.time() - start_time) // 60), int((time.time() - start_time) % 60)))\n",
    "    status = response.status\n",
    "    print(f'Status: {status}')\n",
    "    clear_output(wait=True)\n",
    "\n",
    "print(f'Fine-tuning job {job_id} finished with status: {status}')\n",
    "\n",
    "# List all fine-tuning jobs for this resource.\n",
    "print('Checking other fine-tune jobs for this resource.')\n",
    "response = client.fine_tuning.jobs.list()\n",
    "print(f'Found {len(response.data)} fine-tune jobs.')"
   ],
   "id": "3c5031476997f0e6",
   "outputs": [
    {
     "name": "stdout",
     "output_type": "stream",
     "text": [
      "Fine-tuning job ftjob-9f7d681a3f264f2d8767a3711061ee6c finished with status: succeeded\n",
      "Checking other fine-tune jobs for this resource.\n",
      "Found 1 fine-tune jobs.\n"
     ]
    }
   ],
   "execution_count": 10
  },
  {
   "metadata": {
    "ExecuteTime": {
     "end_time": "2024-05-03T09:03:08.392188Z",
     "start_time": "2024-05-03T09:03:07.481330Z"
    }
   },
   "cell_type": "code",
   "source": [
    "# Retrieve fine_tuned_model name \n",
    "\n",
    "response = client.fine_tuning.jobs.retrieve(job_id)\n",
    "\n",
    "print(response.model_dump_json(indent=2))\n",
    "fine_tuned_model = response.fine_tuned_model\n",
    "print(f'Fine-tuned model: {fine_tuned_model}')"
   ],
   "id": "eb34008fe2b107ed",
   "outputs": [
    {
     "name": "stdout",
     "output_type": "stream",
     "text": [
      "{\n",
      "  \"id\": \"ftjob-9f7d681a3f264f2d8767a3711061ee6c\",\n",
      "  \"created_at\": 1714680030,\n",
      "  \"error\": null,\n",
      "  \"fine_tuned_model\": \"gpt-35-turbo-0125.ft-9f7d681a3f264f2d8767a3711061ee6c\",\n",
      "  \"finished_at\": 1714685448,\n",
      "  \"hyperparameters\": {\n",
      "    \"n_epochs\": 3,\n",
      "    \"batch_size\": 2,\n",
      "    \"learning_rate_multiplier\": 1\n",
      "  },\n",
      "  \"model\": \"gpt-35-turbo-0125\",\n",
      "  \"object\": \"fine_tuning.job\",\n",
      "  \"organization_id\": null,\n",
      "  \"result_files\": [\n",
      "    \"file-6accc98c54a249f7973f210bb94d8bc5\"\n",
      "  ],\n",
      "  \"seed\": null,\n",
      "  \"status\": \"succeeded\",\n",
      "  \"trained_tokens\": 1150452,\n",
      "  \"training_file\": \"file-8ad152d521144a19a9e0b9343aafba1d\",\n",
      "  \"validation_file\": \"file-c3499464dd0f426a959d844bf67d19c5\",\n",
      "  \"integrations\": null\n",
      "}\n",
      "Fine-tuned model: gpt-35-turbo-0125.ft-9f7d681a3f264f2d8767a3711061ee6c\n"
     ]
    }
   ],
   "execution_count": 13
  },
  {
   "metadata": {
    "ExecuteTime": {
     "end_time": "2024-05-03T09:36:11.600086Z",
     "start_time": "2024-05-03T09:36:10.959898Z"
    }
   },
   "cell_type": "code",
   "source": [
    "# Deploy the fine-tuned model\n",
    "import json\n",
    "import os\n",
    "import requests\n",
    "\n",
    "token= os.getenv(\"eyJ0eXAiOiJKV1QiLCJhbGciOiJSUzI1NiIsIng1dCI6IkwxS2ZLRklfam5YYndXYzIyeFp4dzFzVUhIMCIsImtpZCI6IkwxS2ZLRklfam5YYndXYzIyeFp4dzFzVUhIMCJ9.eyJhdWQiOiJodHRwczovL21hbmFnZW1lbnQuY29yZS53aW5kb3dzLm5ldC8iLCJpc3MiOiJodHRwczovL3N0cy53aW5kb3dzLm5ldC9jNjMyOGRjMy1hZmRmLTQwY2UtODQ2ZC0zMjZlZWFkODZkNDkvIiwiaWF0IjoxNzE0NzI4Mzg0LCJuYmYiOjE3MTQ3MjgzODQsImV4cCI6MTcxNDczMzQ1NywiYWNyIjoiMSIsImFpbyI6IkFUUUF5LzhXQUFBQTROd1EwK244YXNyOWlxU3ZYTEIyNVhsRUNwbmFiRGtkSU4vV1FlbkVtMjcxUGQzeWd2SFNHWW1ZVkNubk1na2UiLCJhbXIiOlsicHdkIl0sImFwcGlkIjoiMDRiMDc3OTUtOGRkYi00NjFhLWJiZWUtMDJmOWUxYmY3YjQ2IiwiYXBwaWRhY3IiOiIwIiwiY2Fwb2xpZHNfbGF0ZWJpbmQiOlsiN2FjZDFkYmYtYjBlZC00NjkwLWE0MjktMDRhM2U1N2EzYzQ3Il0sImZhbWlseV9uYW1lIjoiQkFMWkFOTyIsImdpdmVuX25hbWUiOiJOSUNPTEEiLCJncm91cHMiOlsiYTdhNWY5MzAtMTM0YS00NDdkLWExY2MtYjliOTQ2MDJhMTBlIl0sImlkdHlwIjoidXNlciIsImlwYWRkciI6IjIwLjMxLjI0Mi4yNTMiLCJuYW1lIjoiQkFMWkFOTyBOSUNPTEEiLCJvaWQiOiIwNjMyOTc0MC0zY2JjLTQyOWUtOWQyNC02ZDM5MDQ5MTdhNmUiLCJvbnByZW1fc2lkIjoiUy0xLTUtMjEtMjYxMjQxNDMxLTI3ODQ3NjgyNDAtMTEwNjM2NjcxNi00ODUyMCIsInB1aWQiOiIxMDAzMjAwMTgwQjg2QjhBIiwicmgiOiIwLkFTQUF3NDB5eHQtdnprQ0ViVEp1NnRodFNVWklmM2tBdXRkUHVrUGF3ZmoyTUJQa0FGSS4iLCJzY3AiOiJ1c2VyX2ltcGVyc29uYXRpb24iLCJzdWIiOiJNbzhWdEpUaTVFV2FWWF85V3ZwTFhvdGRlMEhoQXEwZDNxaTVnSUpMRjNNIiwidGlkIjoiYzYzMjhkYzMtYWZkZi00MGNlLTg0NmQtMzI2ZWVhZDg2ZDQ5IiwidW5pcXVlX25hbWUiOiJuLmJhbHphbm8yQHN0dWRlbnRpLnVuaWJhLml0IiwidXBuIjoibi5iYWx6YW5vMkBzdHVkZW50aS51bmliYS5pdCIsInV0aSI6ImNCdl84T1RKdWt5TjU5eUlvLWVlQUEiLCJ2ZXIiOiIxLjAiLCJ3aWRzIjpbImI3OWZiZjRkLTNlZjktNDY4OS04MTQzLTc2YjE5NGU4NTUwOSJdLCJ4bXNfY2FlIjoiMSIsInhtc19jYyI6WyJDUDEiXSwieG1zX2ZpbHRlcl9pbmRleCI6WyIzMiJdLCJ4bXNfcmQiOiIwLjQyTGxZQlJpVkFBQSIsInhtc19zc20iOiIxIiwieG1zX3RjZHQiOjE0MzM3NTU1MDN9.MVF4Dak-Hp_wvNokSnKNGXx-sIDpEx-Rv_Y4DWxsnrqZ7hhBnHL8NBiamkFFt9P8pQhII8mGkd3sp4KICai_eFEdBx7MOLsDYiB2crs94MCvY6XUsxoA0Wf_Ot7i4B9Hvz3cZ-zPs7yYTMFALzwkOqckXqK08HdGmM7-1J0SYCtgkF1GLBJSE1UZlw-bgem3QtefkNHpFwYiSMTR0uYCCiojDN9RQHmjY_nCZvg2pi59ivQX2-YC9Gl1Vc_oMSmnjEP4eaG1EUQYNxwRxheNBdAy2H6YXmoIrpg2LaLn5EHDvzA9ZabBrzELrI3_tTCeO8_KrDNKYxqDlCDycNp3Xw\")\n",
    "resource_group = \"cti-fine-tuned\"\n",
    "resource_name = \"cti-gpt-fine-tuned\"\n",
    "model_deployment_name =\"gpt-35-turbo-ft-cti\" # custom deployment name that you will use to reference the model when making inference calls.\n",
    "\n",
    "deploy_params = {'api-version': \"2023-05-01\"} \n",
    "deploy_headers = {'Authorization': 'Bearer {}'.format(token), 'Content-Type': 'application/json'}\n",
    "\n",
    "deploy_data = {\n",
    "    \"sku\": {\"name\": \"standard\", \"capacity\": 1}, \n",
    "    \"properties\": {\n",
    "        \"model\": {\n",
    "            \"format\": \"OpenAI\",\n",
    "            \"name\": fine_tuned_model, #retrieve this value from the previous call, it will look like gpt-35-turbo-0613.ft-b044a9d3cf9c4228b5d393567f693b83\n",
    "            \"version\": \"1\"\n",
    "        }\n",
    "    }\n",
    "}\n",
    "deploy_data = json.dumps(deploy_data)\n",
    "\n",
    "request_url = f'https://management.azure.com/subscriptions/{subscription}/resourceGroups/{resource_group}/providers/Microsoft.CognitiveServices/accounts/{resource_name}/deployments/{model_deployment_name}'\n",
    "\n",
    "print(request_url)\n",
    "\n",
    "print('Creating a new deployment...')\n",
    "\n",
    "r = requests.put(request_url, params=deploy_params, headers=deploy_headers, data=deploy_data)\n",
    "\n",
    "print(r)\n",
    "print(r.reason)\n",
    "print(r.json())"
   ],
   "id": "a844978197c81f0c",
   "outputs": [
    {
     "name": "stdout",
     "output_type": "stream",
     "text": [
      "https://management.azure.com/subscriptions/19fab229-9b43-4d88-8401-3f01a29c8287/resourceGroups/cti-fine-tuned/providers/Microsoft.CognitiveServices/accounts/cti-gpt-fine-tuned/deployments/gpt-35-turbo-ft-cti\n",
      "Creating a new deployment...\n",
      "<Response [401]>\n",
      "Unauthorized\n",
      "{'error': {'code': 'InvalidAuthenticationToken', 'message': 'The access token is invalid.'}}\n"
     ]
    }
   ],
   "execution_count": 22
  },
  {
   "metadata": {},
   "cell_type": "code",
   "outputs": [],
   "execution_count": null,
   "source": "",
   "id": "1e64dcb940fab970"
  }
 ],
 "metadata": {
  "kernelspec": {
   "display_name": "Python 3",
   "language": "python",
   "name": "python3"
  },
  "language_info": {
   "codemirror_mode": {
    "name": "ipython",
    "version": 2
   },
   "file_extension": ".py",
   "mimetype": "text/x-python",
   "name": "python",
   "nbconvert_exporter": "python",
   "pygments_lexer": "ipython2",
   "version": "2.7.6"
  }
 },
 "nbformat": 4,
 "nbformat_minor": 5
}
